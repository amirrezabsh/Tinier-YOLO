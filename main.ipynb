{
 "cells": [
  {
   "cell_type": "code",
   "execution_count": null,
   "metadata": {},
   "outputs": [],
   "source": [
    "from dataset_loader import DatasetLoader\n",
    "from model import TinierYolo\n",
    "\n",
    "if __name__ == '__main__':\n",
    "    pascal_voc_2007 = 'voc/2007'\n",
    "    pascal_voc_2012 = 'voc/2012'\n",
    "    \n",
    "    # loader2007 = DatasetLoader(pascal_voc_2007)\n",
    "    # loader2012 = DatasetLoader(pascal_voc_2012)\n",
    "    \n",
    "    model = TinierYolo()\n",
    "    \n",
    "    print(model.summary())"
   ]
  }
 ],
 "metadata": {
  "kernelspec": {
   "display_name": ".venv",
   "language": "python",
   "name": "python3"
  },
  "language_info": {
   "name": "python",
   "version": "3.10.11"
  }
 },
 "nbformat": 4,
 "nbformat_minor": 2
}
